{
 "cells": [
  {
   "cell_type": "code",
   "execution_count": 1,
   "id": "1aca1b15",
   "metadata": {},
   "outputs": [
    {
     "name": "stdout",
     "output_type": "stream",
     "text": [
      "                                            Yorumlar  Duygu\n",
      "0  Adam doğru demiş olumsuz bir durum yok istikra...      3\n",
      "1  Şu aralar hastaneye gidip geliyorum ve taksi t...      1\n",
      "2  Olumsuz bir durumla karşılaşmadık derken?, hal...      1\n",
      "3   Karşılaşmazsınız Ekrem başkan köklerini kuruttu.      1\n",
      "4      Bende karşılaşmadım çünkü İstanbul’da değilim      2\n"
     ]
    }
   ],
   "source": [
    "import pandas as pd\n",
    "\n",
    "# .csv dosyasını okuyan kod türkçe karaktere göre.\n",
    "df = pd.read_csv('haberyorum.csv', encoding='utf-8')\n",
    "\n",
    "# .csv dosyasının ilk 5 satırını görüntüleyen kod.\n",
    "print(df.head())"
   ]
  },
  {
   "cell_type": "code",
   "execution_count": 7,
   "id": "05f5c65a",
   "metadata": {},
   "outputs": [
    {
     "data": {
      "text/html": [
       "<div>\n",
       "<style scoped>\n",
       "    .dataframe tbody tr th:only-of-type {\n",
       "        vertical-align: middle;\n",
       "    }\n",
       "\n",
       "    .dataframe tbody tr th {\n",
       "        vertical-align: top;\n",
       "    }\n",
       "\n",
       "    .dataframe thead th {\n",
       "        text-align: right;\n",
       "    }\n",
       "</style>\n",
       "<table border=\"1\" class=\"dataframe\">\n",
       "  <thead>\n",
       "    <tr style=\"text-align: right;\">\n",
       "      <th></th>\n",
       "      <th>Yorumlar</th>\n",
       "    </tr>\n",
       "  </thead>\n",
       "  <tbody>\n",
       "    <tr>\n",
       "      <th>0</th>\n",
       "      <td>adam doğru demiş olumsuz bir durum yok istikra...</td>\n",
       "    </tr>\n",
       "    <tr>\n",
       "      <th>1</th>\n",
       "      <td>aralar hastaneye gidip geliyorum taksi tutmam ...</td>\n",
       "    </tr>\n",
       "    <tr>\n",
       "      <th>2</th>\n",
       "      <td>olumsuz bir durumla karşılaşmadık derken halâ ...</td>\n",
       "    </tr>\n",
       "    <tr>\n",
       "      <th>3</th>\n",
       "      <td>karşılaşmazsınız ekrem başkan köklerini kuruttu</td>\n",
       "    </tr>\n",
       "    <tr>\n",
       "      <th>4</th>\n",
       "      <td>bende karşılaşmadım istanbulda değilim</td>\n",
       "    </tr>\n",
       "    <tr>\n",
       "      <th>5</th>\n",
       "      <td>adamin vasfi var surekli haberde karsimda esse...</td>\n",
       "    </tr>\n",
       "    <tr>\n",
       "      <th>6</th>\n",
       "      <td>aynen martı tag kullanmaya devam bildiğiin ube...</td>\n",
       "    </tr>\n",
       "    <tr>\n",
       "      <th>7</th>\n",
       "      <td>eyüp aksu göre olumsuz durum türk vatandaşları...</td>\n",
       "    </tr>\n",
       "    <tr>\n",
       "      <th>8</th>\n",
       "      <td>olsada yok dersin</td>\n",
       "    </tr>\n",
       "    <tr>\n",
       "      <th>9</th>\n",
       "      <td>olumsuz bir durumla karşılaşmaman olumsuz bir ...</td>\n",
       "    </tr>\n",
       "    <tr>\n",
       "      <th>10</th>\n",
       "      <td>körler sağırlar birbirini ağırlar</td>\n",
       "    </tr>\n",
       "    <tr>\n",
       "      <th>11</th>\n",
       "      <td>karşılaşana kadar zaten yolu uzatıyosunuz dayı...</td>\n",
       "    </tr>\n",
       "    <tr>\n",
       "      <th>12</th>\n",
       "      <td>e yapsın haklı başkanlık seçiminde oyları taks...</td>\n",
       "    </tr>\n",
       "    <tr>\n",
       "      <th>13</th>\n",
       "      <td>tek bir olumsuz durum var senin hala başkan ol...</td>\n",
       "    </tr>\n",
       "    <tr>\n",
       "      <th>14</th>\n",
       "      <td>sizce olumsuz bir durumla karşılaştık dermi ta...</td>\n",
       "    </tr>\n",
       "    <tr>\n",
       "      <th>15</th>\n",
       "      <td>insan kendi ayağına sıkar</td>\n",
       "    </tr>\n",
       "  </tbody>\n",
       "</table>\n",
       "</div>"
      ],
      "text/plain": [
       "                                             Yorumlar\n",
       "0   adam doğru demiş olumsuz bir durum yok istikra...\n",
       "1   aralar hastaneye gidip geliyorum taksi tutmam ...\n",
       "2   olumsuz bir durumla karşılaşmadık derken halâ ...\n",
       "3     karşılaşmazsınız ekrem başkan köklerini kuruttu\n",
       "4              bende karşılaşmadım istanbulda değilim\n",
       "5   adamin vasfi var surekli haberde karsimda esse...\n",
       "6   aynen martı tag kullanmaya devam bildiğiin ube...\n",
       "7   eyüp aksu göre olumsuz durum türk vatandaşları...\n",
       "8                                   olsada yok dersin\n",
       "9   olumsuz bir durumla karşılaşmaman olumsuz bir ...\n",
       "10                  körler sağırlar birbirini ağırlar\n",
       "11  karşılaşana kadar zaten yolu uzatıyosunuz dayı...\n",
       "12  e yapsın haklı başkanlık seçiminde oyları taks...\n",
       "13  tek bir olumsuz durum var senin hala başkan ol...\n",
       "14  sizce olumsuz bir durumla karşılaştık dermi ta...\n",
       "15                          insan kendi ayağına sıkar"
      ]
     },
     "execution_count": 7,
     "metadata": {},
     "output_type": "execute_result"
    }
   ],
   "source": [
    "#harfleri küçükltüp noktalama işaretleri kontrolünü yapan kod.\n",
    "df[\"Yorumlar\"] = df[\"Yorumlar\"].apply(lambda x: x.lower())\n",
    "df[\"Yorumlar\"] = df[\"Yorumlar\"].apply(lambda x: x.replace(\",\", \"\").replace(\".\", \"\"))\n",
    "#sayıları ayıklayıp silen kod.\n",
    "df[\"Yorumlar\"] = df[\"Yorumlar\"].apply(lambda x: float(x) if x.isnumeric() else x)\n",
    "#ilk 20 satırı yazdıran kod.\n",
    "df.loc[:20, [\"Yorumlar\"]]\n"
   ]
  },
  {
   "cell_type": "code",
   "execution_count": 29,
   "id": "2e5316b0",
   "metadata": {},
   "outputs": [
    {
     "name": "stdout",
     "output_type": "stream",
     "text": [
      "                                               Yorumlar  Duygu\n",
      "0     ada doğru demiş olumsuz bir dur yok istikrarlı...      3\n",
      "1     ara hastaney gidip geliyor taksi tutma gerekiy...      1\n",
      "2     olumsuz bir dur karşılaşmadık der halâ taksici...      1\n",
      "3                       karşılaşmaz ekr başka kök kurut      1\n",
      "4                      bend karşılaşmadı istanbul değil      2\n",
      "...                                                 ...    ...\n",
      "1105                                    bekci abi ma mi      2\n",
      "1106     yeter miktar arap apartma dikm iz verdik sonra      2\n",
      "1107                                 yar iş makin girer      2\n",
      "1108  kusur bakmay yayla ağz çok sıçıl zate gittiğim...      1\n",
      "1109                           umar arap ırz geçer bura      1\n",
      "\n",
      "[1110 rows x 2 columns]\n"
     ]
    }
   ],
   "source": [
    "import nltk\n",
    "from nltk.stem import WordNetLemmatizer\n",
    "# WordNetLemmatizer nesnesini oluşturan kod.\n",
    "lemmatizer = WordNetLemmatizer()\n",
    "# \"Yorumlar\" sütunundaki verileri köklerine ayıran kod.\n",
    "df[\"Yorumlar\"] = df[\"Yorumlar\"].apply(lambda x: \" \".join([lemmatizer.lemmatize(word) for word in x.split()]))\n",
    "\n",
    "# Verileri yazdır kod.\n",
    "print(df)"
   ]
  },
  {
   "cell_type": "code",
   "execution_count": 39,
   "id": "a0e53046",
   "metadata": {},
   "outputs": [
    {
     "name": "stdout",
     "output_type": "stream",
     "text": [
      "          token  count\n",
      "0           bir    184\n",
      "1            ol    137\n",
      "2           var     98\n",
      "3           yok     75\n",
      "4            ev     60\n",
      "...         ...    ...\n",
      "3830  kulanıyor      1\n",
      "3831        sov      1\n",
      "3832   ziyniyet      1\n",
      "3833  tanımıyor      1\n",
      "3834        ırz      1\n",
      "\n",
      "[3835 rows x 2 columns]\n"
     ]
    }
   ],
   "source": [
    "df = df[[\"Yorumlar\"]]\n",
    "# Tokenizasyon işlemini gerçekleştiren kod.\n",
    "df[\"Yorumlar\"] = df[\"Yorumlar\"].apply(lambda x: \" \".join(x))\n",
    "df[\"Yorumlar\"] = df[\"Yorumlar\"].apply(lambda x: x.split())\n",
    "# Tokenlerin frekansını ölçen kod.\n",
    "token_counts = pd.Series([token for tokens in df[\"Yorumlar\"] for token in tokens]).value_counts()\n",
    "\n",
    "# Tabloyu yazdıran kod.\n",
    "print(token_counts_df)"
   ]
  },
  {
   "cell_type": "code",
   "execution_count": 35,
   "id": "e95bc339",
   "metadata": {},
   "outputs": [
    {
     "name": "stdout",
     "output_type": "stream",
     "text": [
      "Test doğruluk skoru: 0.5630630630630631\n"
     ]
    }
   ],
   "source": [
    "import pandas as pd\n",
    "from sklearn.model_selection import train_test_split\n",
    "from sklearn.neural_network import MLPClassifier\n",
    "from sklearn.feature_extraction.text import CountVectorizer\n",
    "\n",
    "# Verileri okuyan kod.\n",
    "df = pd.read_csv(\"haberyorum.csv\")\n",
    "\n",
    "# Yorumları sayı vektörüne dönüştüren kod\n",
    "vectorizer = CountVectorizer()\n",
    "X = vectorizer.fit_transform(df['Yorumlar'])\n",
    "y = df['Duygu']\n",
    "\n",
    "# Verileri eğitim ve test verilerine ayırınan kod\n",
    "X_train, X_test, y_train, y_test = train_test_split(X, y, test_size=0.2)\n",
    "\n",
    "# Yapay sinir ağı modelini MLP olarak oluşturup -Multi Layer Perception- eğitmeye başlayan kod.\n",
    "model = MLPClassifier()\n",
    "model.fit(X_train, y_train)\n",
    "\n",
    "# Modeli değerlendirmeye alan, test eden kod.\n",
    "score = model.score(X_test, y_test)\n",
    "print(\"Test doğruluk skoru:\", score)"
   ]
  },
  {
   "cell_type": "code",
   "execution_count": 37,
   "id": "2ee0c93b",
   "metadata": {},
   "outputs": [
    {
     "name": "stdout",
     "output_type": "stream",
     "text": [
      "Yorumun duygu tahmini: 3\n"
     ]
    }
   ],
   "source": [
    "# yeni yorum girdisi yapan kod\n",
    "yeni_yorum = \"Mukemmel zamanda başkan seçimi için teşekkürler\"\n",
    "\n",
    "# yorumu sayı vektörüne dönüştüren kod.\n",
    "yeni_yorum_vector = vectorizer.transform([yeni_yorum])\n",
    "\n",
    "# Modeli kullanarak yorumun duygu tahminini yapan kod.\n",
    "prediction = model.predict(yeni_yorum_vector)[0]\n",
    "\n",
    "print(\"Yorumun duygu tahmini:\", prediction)"
   ]
  },
  {
   "cell_type": "code",
   "execution_count": null,
   "id": "396b66ff",
   "metadata": {},
   "outputs": [],
   "source": []
  }
 ],
 "metadata": {
  "kernelspec": {
   "display_name": "Python 3 (ipykernel)",
   "language": "python",
   "name": "python3"
  },
  "language_info": {
   "codemirror_mode": {
    "name": "ipython",
    "version": 3
   },
   "file_extension": ".py",
   "mimetype": "text/x-python",
   "name": "python",
   "nbconvert_exporter": "python",
   "pygments_lexer": "ipython3",
   "version": "3.9.13"
  }
 },
 "nbformat": 4,
 "nbformat_minor": 5
}
