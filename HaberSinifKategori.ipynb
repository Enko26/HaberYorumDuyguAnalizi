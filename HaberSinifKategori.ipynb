{
 "cells": [
  {
   "cell_type": "code",
   "execution_count": 1,
   "id": "f9c1348f",
   "metadata": {},
   "outputs": [
    {
     "name": "stdout",
     "output_type": "stream",
     "text": [
      "   category                                               text\n",
      "0  siyaset    3 milyon ile ön seçim vaadi mhp nin 10 olağan...\n",
      "1  siyaset    mesut_yılmaz yüce_divan da ceza alabilirdi pr...\n",
      "2  siyaset    disko lar kaldırılıyor başbakan_yardımcısı ar...\n",
      "3  siyaset    sarıgül anayasa_mahkemesi ne gidiyor mustafa_...\n",
      "4  siyaset    erdoğan idamın bir haklılık sebebi var demek ...\n"
     ]
    }
   ],
   "source": [
    "import pandas as pd\n",
    "\n",
    "# .csv dosyasını okuyan kod.\n",
    "df = pd.read_csv('7allV03.csv', encoding='utf-8')\n",
    "\n",
    "# .csv dosyasının ilk 5 satırını görüntüleyen kod.\n",
    "print(df.head())"
   ]
  },
  {
   "cell_type": "code",
   "execution_count": 2,
   "id": "f589f2a9",
   "metadata": {},
   "outputs": [
    {
     "name": "stdout",
     "output_type": "stream",
     "text": [
      "        category                                               text\n",
      "0       siyaset    milyon ön seçim vaadi mhp nin  olağan büyük k...\n",
      "1       siyaset   mesut_yılmaz yüce_divan ceza alabilirdi prof d...\n",
      "2       siyaset   disko lar kaldırılıyor başbakan_yardımcısı arı...\n",
      "3       siyaset   sarıgül anayasa_mahkemesi gidiyor mustafa_sarı...\n",
      "4       siyaset   erdoğan idamın bir haklılık sebebi var demek y...\n",
      "...          ...                                                ...\n",
      "4895  teknoloji   iphone lara geri dönüyor ios  sürümüyle telefo...\n",
      "4896  teknoloji   muslukta devrim sadece elimizi yıkadığımız mus...\n",
      "4897  teknoloji   halka iyi anlatılmalı bilgi_teknolojileri ilet...\n",
      "4898  teknoloji   çöpe gidiyorlar apple  bin uygulamayla app_sto...\n",
      "4899  teknoloji   google edward_gorey dedi  google ünlü illüstra...\n",
      "\n",
      "[4900 rows x 2 columns]\n"
     ]
    }
   ],
   "source": [
    "import nltk\n",
    "from nltk.corpus import stopwords\n",
    "import re\n",
    "#Stopword kütüphanesiyle metni gereksiz kelimelerden arındıran kod.\n",
    "stop = stopwords.words('turkish')\n",
    "df['text'] = df['text'].apply(lambda x: \" \".join(word for word in x.split() if word not in stop))\n",
    "#Hafleri küçülten kod.\n",
    "df['text'] = df['text'].str.lower()\n",
    "#Metinlerin içerisindeki numara,noktalama işaretlerinin kontrolünü yapan kod.\n",
    "df['text'] = df['text'].apply(lambda x: re.sub(r'\\d', '', x))\n",
    "df['text'] = df['text'].apply(lambda x: re.sub(r'[^\\w\\s]', '', x))\n",
    "\n",
    "print(df)"
   ]
  },
  {
   "cell_type": "code",
   "execution_count": 3,
   "id": "aeb2c052",
   "metadata": {},
   "outputs": [
    {
     "name": "stdout",
     "output_type": "stream",
     "text": [
      "        category                                               text\n",
      "0       siyaset   milyon ön seçim vaadi mhp nin olağan büyük kur...\n",
      "1       siyaset   mesut_yılmaz yüce_divan ceza alabilirdi prof d...\n",
      "2       siyaset   disko lar kaldırılıyor başbakan_yardımcısı arı...\n",
      "3       siyaset   sarıgül anayasa_mahkemesi gidiyor mustafa_sarı...\n",
      "4       siyaset   erdoğan idamın bir haklılık sebebi var demek y...\n",
      "...          ...                                                ...\n",
      "4895  teknoloji   iphone lara geri dönüyor io sürümüyle telefon ...\n",
      "4896  teknoloji   muslukta devrim sadece elimizi yıkadığımız mus...\n",
      "4897  teknoloji   halka iyi anlatılmalı bilgi_teknolojileri ilet...\n",
      "4898  teknoloji   çöpe gidiyorlar apple bin uygulamayla app_stor...\n",
      "4899  teknoloji   google edward_gorey dedi google ünlü illüstrat...\n",
      "\n",
      "[4900 rows x 2 columns]\n"
     ]
    }
   ],
   "source": [
    "import nltk\n",
    "from nltk.stem import WordNetLemmatizer\n",
    "# WordNetLemmatizer nesnesini oluşturan kod.\n",
    "lemmatizer = WordNetLemmatizer()\n",
    "# \"text\" sütunundaki verileri işleyen kod.\n",
    "df[\"text\"] = df[\"text\"].apply(lambda x: \" \".join([lemmatizer.lemmatize(word) for word in x.split()]))\n",
    "\n",
    "# Verileri yazdıran kod.\n",
    "print(df)"
   ]
  },
  {
   "cell_type": "code",
   "execution_count": 4,
   "id": "12173c8b",
   "metadata": {},
   "outputs": [
    {
     "name": "stdout",
     "output_type": "stream",
     "text": [
      "                          Token  Frekans\n",
      "0                            ve    27180\n",
      "1                           bir    20463\n",
      "2                            bu    13527\n",
      "3                            da    12317\n",
      "4                                 11908\n",
      "...                         ...      ...\n",
      "111023                  mecburu        1\n",
      "111024                müfredata        1\n",
      "111025  kararlar_başkanlığından        1\n",
      "111026             tartışılarak        1\n",
      "111027                sıyrılmak        1\n",
      "\n",
      "[111028 rows x 2 columns]\n"
     ]
    }
   ],
   "source": [
    "import pandas as pd\n",
    "\n",
    "# Verileri .csv olarak yükleyen kod\n",
    "df = pd.read_csv(\"7allV03.csv\")\n",
    "\n",
    "# Text sütunundaki verilere göre tokenizasyon işlemini gerçekleştiren kod.\n",
    "df[\"text\"] = df[\"text\"].apply(lambda x: x.split())\n",
    "\n",
    "# Tokenlerin frekansını hesaplayan kod.\n",
    "token_counts = pd.Series([token for tokens in df[\"text\"] for token in tokens]).value_counts()\n",
    "\n",
    "# Tokenlerin frekansını bir tablo olarak gösteren kod.\n",
    "token_counts_df = pd.DataFrame({\"Token\": token_counts.index, \"Frekans\": token_counts.values})\n",
    "print(token_counts_df)"
   ]
  },
  {
   "cell_type": "code",
   "execution_count": 5,
   "id": "d1ed900c",
   "metadata": {},
   "outputs": [
    {
     "name": "stdout",
     "output_type": "stream",
     "text": [
      "Model doğruluğu: 0.92\n"
     ]
    }
   ],
   "source": [
    "import pandas as pd\n",
    "from sklearn.model_selection import train_test_split\n",
    "from sklearn.feature_extraction.text import TfidfVectorizer\n",
    "from sklearn.svm import SVC\n",
    "\n",
    "# Verileri .csv olarak yükleyen kod\n",
    "df = pd.read_csv(\"7allV03.csv\")\n",
    "\n",
    "# Verileri eğitim ve test verileri olarak ayıran kod.\n",
    "X = df[\"text\"]\n",
    "y = df[\"category\"]\n",
    "X_train, X_test, y_train, y_test = train_test_split(X, y, test_size=0.2, random_state=42)\n",
    "\n",
    "# TfidfVectorizer sınıfını kullanarak verileri vektöre çeviren kod.\n",
    "vectorizer = TfidfVectorizer(stop_words=\"english\", max_df=0.5, smooth_idf=True)\n",
    "X_train = vectorizer.fit_transform(X_train)\n",
    "X_test = vectorizer.transform(X_test)\n",
    "\n",
    "# SVM -support vector model- modelinini oluşturan kod.\n",
    "model = SVC()\n",
    "model.fit(X_train, y_train)\n",
    "\n",
    "# Modeli değerlendirlendirmesini yapıp test eden kod.\n",
    "score = model.score(X_test, y_test)\n",
    "print(\"Model doğruluğu: {:.2f}\".format(score))"
   ]
  },
  {
   "cell_type": "code",
   "execution_count": 6,
   "id": "c700dc2d",
   "metadata": {},
   "outputs": [
    {
     "name": "stdout",
     "output_type": "stream",
     "text": [
      "Tahmin edilen kategori: ekonomi \n"
     ]
    }
   ],
   "source": [
    "#yeni haber metin girişi yapan kod.\n",
    "yeni_metin = \"MTV zam oranı belli oldu, peki hangi araca ne kadar vergi ödenecek? İşte kalem kalem o liste\"\n",
    "\n",
    "# Veriyi vektöre çeviren kod.\n",
    "yeni_metin = vectorizer.transform([yeni_metin])\n",
    "\n",
    "# Tahmini yapan kod.\n",
    "prediction = model.predict(yeni_metin)\n",
    "\n",
    "print(\"Tahmin edilen kategori:\", prediction[0])"
   ]
  },
  {
   "cell_type": "code",
   "execution_count": null,
   "id": "64e34491",
   "metadata": {},
   "outputs": [],
   "source": []
  }
 ],
 "metadata": {
  "kernelspec": {
   "display_name": "Python 3 (ipykernel)",
   "language": "python",
   "name": "python3"
  },
  "language_info": {
   "codemirror_mode": {
    "name": "ipython",
    "version": 3
   },
   "file_extension": ".py",
   "mimetype": "text/x-python",
   "name": "python",
   "nbconvert_exporter": "python",
   "pygments_lexer": "ipython3",
   "version": "3.9.13"
  }
 },
 "nbformat": 4,
 "nbformat_minor": 5
}
